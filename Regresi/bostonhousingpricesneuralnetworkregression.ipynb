{
 "cells": [
  {
   "cell_type": "code",
   "execution_count": 1,
   "id": "722bd1d0",
   "metadata": {
    "_cell_guid": "b1076dfc-b9ad-4769-8c92-a6c4dae69d19",
    "_uuid": "8f2839f25d086af736a60e9eeb907d3b93b6e0e5",
    "execution": {
     "iopub.execute_input": "2021-07-23T03:08:38.148294Z",
     "iopub.status.busy": "2021-07-23T03:08:38.147128Z",
     "iopub.status.idle": "2021-07-23T03:08:43.968473Z",
     "shell.execute_reply": "2021-07-23T03:08:43.969046Z",
     "shell.execute_reply.started": "2021-07-23T02:44:40.950025Z"
    },
    "papermill": {
     "duration": 5.84217,
     "end_time": "2021-07-23T03:08:43.969383",
     "exception": false,
     "start_time": "2021-07-23T03:08:38.127213",
     "status": "completed"
    },
    "tags": []
   },
   "outputs": [
    {
     "name": "stdout",
     "output_type": "stream",
     "text": [
      "/kaggle/input/boston-house-prices/housing.csv\n"
     ]
    }
   ],
   "source": [
    "import numpy as np # linear algebra\n",
    "import pandas as pd # data processing, CSV file I/O (e.g. pd.read_csv)\n",
    "from sklearn.model_selection import train_test_split\n",
    "import matplotlib.pyplot as plt\n",
    "\n",
    "from keras import models\n",
    "from keras import layers\n",
    "\n",
    "import os\n",
    "for dirname, _, filenames in os.walk('/kaggle/input'):\n",
    "    for filename in filenames:\n",
    "        print(os.path.join(dirname, filename))\n",
    "\n"
   ]
  },
  {
   "cell_type": "code",
   "execution_count": 2,
   "id": "9e32fedf",
   "metadata": {
    "execution": {
     "iopub.execute_input": "2021-07-23T03:08:44.009642Z",
     "iopub.status.busy": "2021-07-23T03:08:44.008941Z",
     "iopub.status.idle": "2021-07-23T03:08:44.025096Z",
     "shell.execute_reply": "2021-07-23T03:08:44.024568Z",
     "shell.execute_reply.started": "2021-07-23T02:29:48.339320Z"
    },
    "papermill": {
     "duration": 0.039044,
     "end_time": "2021-07-23T03:08:44.025241",
     "exception": false,
     "start_time": "2021-07-23T03:08:43.986197",
     "status": "completed"
    },
    "tags": []
   },
   "outputs": [],
   "source": [
    "column_names = ['CRIM', 'ZN', 'INDUS', 'CHAS', 'NOX', 'RM', 'AGE', 'DIS', 'RAD', 'TAX', 'PTRATIO', 'B', 'LSTAT', 'MEDV']\n",
    "data = pd.read_csv(\"https://github.com/freddy281191/PML/blob/main/Regresi/housing.csv\", header=None, delimiter=r\"\\s+\", names=column_names)"
   ]
  },
  {
   "cell_type": "code",
   "execution_count": 3,
   "id": "7354f9e9",
   "metadata": {
    "execution": {
     "iopub.execute_input": "2021-07-23T03:08:44.059614Z",
     "iopub.status.busy": "2021-07-23T03:08:44.058950Z",
     "iopub.status.idle": "2021-07-23T03:08:44.096466Z",
     "shell.execute_reply": "2021-07-23T03:08:44.096992Z",
     "shell.execute_reply.started": "2021-07-23T02:29:48.357784Z"
    },
    "papermill": {
     "duration": 0.056295,
     "end_time": "2021-07-23T03:08:44.097164",
     "exception": false,
     "start_time": "2021-07-23T03:08:44.040869",
     "status": "completed"
    },
    "tags": []
   },
   "outputs": [
    {
     "data": {
      "text/html": [
       "<div>\n",
       "<style scoped>\n",
       "    .dataframe tbody tr th:only-of-type {\n",
       "        vertical-align: middle;\n",
       "    }\n",
       "\n",
       "    .dataframe tbody tr th {\n",
       "        vertical-align: top;\n",
       "    }\n",
       "\n",
       "    .dataframe thead th {\n",
       "        text-align: right;\n",
       "    }\n",
       "</style>\n",
       "<table border=\"1\" class=\"dataframe\">\n",
       "  <thead>\n",
       "    <tr style=\"text-align: right;\">\n",
       "      <th></th>\n",
       "      <th>CRIM</th>\n",
       "      <th>ZN</th>\n",
       "      <th>INDUS</th>\n",
       "      <th>CHAS</th>\n",
       "      <th>NOX</th>\n",
       "      <th>RM</th>\n",
       "      <th>AGE</th>\n",
       "      <th>DIS</th>\n",
       "      <th>RAD</th>\n",
       "      <th>TAX</th>\n",
       "      <th>PTRATIO</th>\n",
       "      <th>B</th>\n",
       "      <th>LSTAT</th>\n",
       "      <th>MEDV</th>\n",
       "    </tr>\n",
       "  </thead>\n",
       "  <tbody>\n",
       "    <tr>\n",
       "      <th>0</th>\n",
       "      <td>0.00632</td>\n",
       "      <td>18.0</td>\n",
       "      <td>2.31</td>\n",
       "      <td>0</td>\n",
       "      <td>0.538</td>\n",
       "      <td>6.575</td>\n",
       "      <td>65.2</td>\n",
       "      <td>4.0900</td>\n",
       "      <td>1</td>\n",
       "      <td>296.0</td>\n",
       "      <td>15.3</td>\n",
       "      <td>396.90</td>\n",
       "      <td>4.98</td>\n",
       "      <td>24.0</td>\n",
       "    </tr>\n",
       "    <tr>\n",
       "      <th>1</th>\n",
       "      <td>0.02731</td>\n",
       "      <td>0.0</td>\n",
       "      <td>7.07</td>\n",
       "      <td>0</td>\n",
       "      <td>0.469</td>\n",
       "      <td>6.421</td>\n",
       "      <td>78.9</td>\n",
       "      <td>4.9671</td>\n",
       "      <td>2</td>\n",
       "      <td>242.0</td>\n",
       "      <td>17.8</td>\n",
       "      <td>396.90</td>\n",
       "      <td>9.14</td>\n",
       "      <td>21.6</td>\n",
       "    </tr>\n",
       "    <tr>\n",
       "      <th>2</th>\n",
       "      <td>0.02729</td>\n",
       "      <td>0.0</td>\n",
       "      <td>7.07</td>\n",
       "      <td>0</td>\n",
       "      <td>0.469</td>\n",
       "      <td>7.185</td>\n",
       "      <td>61.1</td>\n",
       "      <td>4.9671</td>\n",
       "      <td>2</td>\n",
       "      <td>242.0</td>\n",
       "      <td>17.8</td>\n",
       "      <td>392.83</td>\n",
       "      <td>4.03</td>\n",
       "      <td>34.7</td>\n",
       "    </tr>\n",
       "    <tr>\n",
       "      <th>3</th>\n",
       "      <td>0.03237</td>\n",
       "      <td>0.0</td>\n",
       "      <td>2.18</td>\n",
       "      <td>0</td>\n",
       "      <td>0.458</td>\n",
       "      <td>6.998</td>\n",
       "      <td>45.8</td>\n",
       "      <td>6.0622</td>\n",
       "      <td>3</td>\n",
       "      <td>222.0</td>\n",
       "      <td>18.7</td>\n",
       "      <td>394.63</td>\n",
       "      <td>2.94</td>\n",
       "      <td>33.4</td>\n",
       "    </tr>\n",
       "    <tr>\n",
       "      <th>4</th>\n",
       "      <td>0.06905</td>\n",
       "      <td>0.0</td>\n",
       "      <td>2.18</td>\n",
       "      <td>0</td>\n",
       "      <td>0.458</td>\n",
       "      <td>7.147</td>\n",
       "      <td>54.2</td>\n",
       "      <td>6.0622</td>\n",
       "      <td>3</td>\n",
       "      <td>222.0</td>\n",
       "      <td>18.7</td>\n",
       "      <td>396.90</td>\n",
       "      <td>5.33</td>\n",
       "      <td>36.2</td>\n",
       "    </tr>\n",
       "  </tbody>\n",
       "</table>\n",
       "</div>"
      ],
      "text/plain": [
       "      CRIM    ZN  INDUS  CHAS    NOX     RM   AGE     DIS  RAD    TAX  \\\n",
       "0  0.00632  18.0   2.31     0  0.538  6.575  65.2  4.0900    1  296.0   \n",
       "1  0.02731   0.0   7.07     0  0.469  6.421  78.9  4.9671    2  242.0   \n",
       "2  0.02729   0.0   7.07     0  0.469  7.185  61.1  4.9671    2  242.0   \n",
       "3  0.03237   0.0   2.18     0  0.458  6.998  45.8  6.0622    3  222.0   \n",
       "4  0.06905   0.0   2.18     0  0.458  7.147  54.2  6.0622    3  222.0   \n",
       "\n",
       "   PTRATIO       B  LSTAT  MEDV  \n",
       "0     15.3  396.90   4.98  24.0  \n",
       "1     17.8  396.90   9.14  21.6  \n",
       "2     17.8  392.83   4.03  34.7  \n",
       "3     18.7  394.63   2.94  33.4  \n",
       "4     18.7  396.90   5.33  36.2  "
      ]
     },
     "execution_count": 3,
     "metadata": {},
     "output_type": "execute_result"
    }
   ],
   "source": [
    "data.head()"
   ]
  },
  {
   "cell_type": "markdown",
   "id": "bbb0e568",
   "metadata": {
    "papermill": {
     "duration": 0.015524,
     "end_time": "2021-07-23T03:08:44.128684",
     "exception": false,
     "start_time": "2021-07-23T03:08:44.113160",
     "status": "completed"
    },
    "tags": []
   },
   "source": [
    "## Preprocessing"
   ]
  },
  {
   "cell_type": "code",
   "execution_count": 4,
   "id": "f093a8cc",
   "metadata": {
    "execution": {
     "iopub.execute_input": "2021-07-23T03:08:44.163590Z",
     "iopub.status.busy": "2021-07-23T03:08:44.162949Z",
     "iopub.status.idle": "2021-07-23T03:08:44.173457Z",
     "shell.execute_reply": "2021-07-23T03:08:44.173989Z",
     "shell.execute_reply.started": "2021-07-23T02:33:08.850568Z"
    },
    "papermill": {
     "duration": 0.029843,
     "end_time": "2021-07-23T03:08:44.174180",
     "exception": false,
     "start_time": "2021-07-23T03:08:44.144337",
     "status": "completed"
    },
    "tags": []
   },
   "outputs": [],
   "source": [
    "y = data[\"MEDV\"]\n",
    "X = data.drop(labels = [\"MEDV\"],axis = 1) \n",
    "train_data, test_data, train_targets, test_targets = train_test_split(X, y, test_size = 0.2, random_state=0)"
   ]
  },
  {
   "cell_type": "code",
   "execution_count": 5,
   "id": "783f4c58",
   "metadata": {
    "execution": {
     "iopub.execute_input": "2021-07-23T03:08:44.209604Z",
     "iopub.status.busy": "2021-07-23T03:08:44.208967Z",
     "iopub.status.idle": "2021-07-23T03:08:44.215863Z",
     "shell.execute_reply": "2021-07-23T03:08:44.216391Z",
     "shell.execute_reply.started": "2021-07-23T02:33:09.087424Z"
    },
    "papermill": {
     "duration": 0.025988,
     "end_time": "2021-07-23T03:08:44.216573",
     "exception": false,
     "start_time": "2021-07-23T03:08:44.190585",
     "status": "completed"
    },
    "tags": []
   },
   "outputs": [
    {
     "data": {
      "text/plain": [
       "220    26.7\n",
       "71     21.7\n",
       "240    22.0\n",
       "6      22.9\n",
       "417    10.4\n",
       "       ... \n",
       "323    18.5\n",
       "192    36.4\n",
       "117    19.2\n",
       "47     16.6\n",
       "172    23.1\n",
       "Name: MEDV, Length: 404, dtype: float64"
      ]
     },
     "execution_count": 5,
     "metadata": {},
     "output_type": "execute_result"
    }
   ],
   "source": [
    "#train_data.shape\n",
    "#test_data.shape\n",
    "train_targets"
   ]
  },
  {
   "cell_type": "code",
   "execution_count": 6,
   "id": "012dbf54",
   "metadata": {
    "execution": {
     "iopub.execute_input": "2021-07-23T03:08:44.252471Z",
     "iopub.status.busy": "2021-07-23T03:08:44.251838Z",
     "iopub.status.idle": "2021-07-23T03:08:44.279942Z",
     "shell.execute_reply": "2021-07-23T03:08:44.279343Z",
     "shell.execute_reply.started": "2021-07-23T02:33:13.135542Z"
    },
    "papermill": {
     "duration": 0.047248,
     "end_time": "2021-07-23T03:08:44.280090",
     "exception": false,
     "start_time": "2021-07-23T03:08:44.232842",
     "status": "completed"
    },
    "tags": []
   },
   "outputs": [],
   "source": [
    "#Normalizing\n",
    "mean = train_data.mean(axis=0)\n",
    "train_data -= mean\n",
    "std = train_data.std(axis=0)\n",
    "train_data /= std\n",
    "test_data -= mean\n",
    "test_data /= std"
   ]
  },
  {
   "cell_type": "markdown",
   "id": "b0e500fa",
   "metadata": {
    "papermill": {
     "duration": 0.015952,
     "end_time": "2021-07-23T03:08:44.313111",
     "exception": false,
     "start_time": "2021-07-23T03:08:44.297159",
     "status": "completed"
    },
    "tags": []
   },
   "source": [
    "## Model"
   ]
  },
  {
   "cell_type": "code",
   "execution_count": 7,
   "id": "a5f62b06",
   "metadata": {
    "execution": {
     "iopub.execute_input": "2021-07-23T03:08:44.352257Z",
     "iopub.status.busy": "2021-07-23T03:08:44.351556Z",
     "iopub.status.idle": "2021-07-23T03:08:44.354694Z",
     "shell.execute_reply": "2021-07-23T03:08:44.354139Z",
     "shell.execute_reply.started": "2021-07-23T02:35:21.370127Z"
    },
    "papermill": {
     "duration": 0.025464,
     "end_time": "2021-07-23T03:08:44.354849",
     "exception": false,
     "start_time": "2021-07-23T03:08:44.329385",
     "status": "completed"
    },
    "tags": []
   },
   "outputs": [],
   "source": [
    "def build_model():\n",
    "    model = models.Sequential()\n",
    "    model.add(layers.Dense(64, activation='relu', input_shape=(train_data.shape[1],)))\n",
    "    model.add(layers.Dense(64, activation='relu'))\n",
    "    model.add(layers.Dense(1))\n",
    "    model.compile(optimizer='rmsprop', loss='mse', metrics=['mae'])\n",
    "    return model"
   ]
  },
  {
   "cell_type": "markdown",
   "id": "834651b6",
   "metadata": {
    "papermill": {
     "duration": 0.016437,
     "end_time": "2021-07-23T03:08:44.387917",
     "exception": false,
     "start_time": "2021-07-23T03:08:44.371480",
     "status": "completed"
    },
    "tags": []
   },
   "source": [
    "## K-fold validation"
   ]
  },
  {
   "cell_type": "code",
   "execution_count": 8,
   "id": "d5a3e44a",
   "metadata": {
    "execution": {
     "iopub.execute_input": "2021-07-23T03:08:44.430517Z",
     "iopub.status.busy": "2021-07-23T03:08:44.429551Z",
     "iopub.status.idle": "2021-07-23T03:10:13.803132Z",
     "shell.execute_reply": "2021-07-23T03:10:13.803640Z",
     "shell.execute_reply.started": "2021-07-23T02:37:05.603258Z"
    },
    "papermill": {
     "duration": 89.399678,
     "end_time": "2021-07-23T03:10:13.803830",
     "exception": false,
     "start_time": "2021-07-23T03:08:44.404152",
     "status": "completed"
    },
    "tags": []
   },
   "outputs": [
    {
     "name": "stdout",
     "output_type": "stream",
     "text": [
      "processing fold # 0\n",
      "processing fold # 1\n",
      "processing fold # 2\n",
      "processing fold # 3\n"
     ]
    }
   ],
   "source": [
    "k = 4\n",
    "num_val_samples = len(train_data) // k\n",
    "num_epochs = 100\n",
    "all_scores = []\n",
    "\n",
    "for i in range(k):\n",
    "    print('processing fold #', i)\n",
    "    val_data = train_data[i * num_val_samples: (i + 1) * num_val_samples]\n",
    "    val_targets = train_targets[i * num_val_samples: (i + 1) * num_val_samples]\n",
    "    partial_train_data = np.concatenate(\n",
    "        [train_data[:i * num_val_samples],\n",
    "        train_data[(i + 1) * num_val_samples:]],\n",
    "        axis=0)\n",
    "    partial_train_targets = np.concatenate(\n",
    "        [train_targets[:i * num_val_samples],\n",
    "        train_targets[(i + 1) * num_val_samples:]],\n",
    "        axis=0)\n",
    "    model = build_model()\n",
    "    model.fit(partial_train_data, partial_train_targets,\n",
    "        epochs=num_epochs, batch_size=1, verbose=0)\n",
    "    val_mse, val_mae = model.evaluate(val_data, val_targets, verbose=0)\n",
    "    all_scores.append(val_mae)\n"
   ]
  },
  {
   "cell_type": "code",
   "execution_count": 9,
   "id": "8b3552d0",
   "metadata": {
    "execution": {
     "iopub.execute_input": "2021-07-23T03:10:13.841767Z",
     "iopub.status.busy": "2021-07-23T03:10:13.841171Z",
     "iopub.status.idle": "2021-07-23T03:10:13.847593Z",
     "shell.execute_reply": "2021-07-23T03:10:13.847099Z",
     "shell.execute_reply.started": "2021-07-23T02:41:00.942134Z"
    },
    "papermill": {
     "duration": 0.026132,
     "end_time": "2021-07-23T03:10:13.847726",
     "exception": false,
     "start_time": "2021-07-23T03:10:13.821594",
     "status": "completed"
    },
    "tags": []
   },
   "outputs": [
    {
     "data": {
      "text/plain": [
       "2.583247721195221"
      ]
     },
     "execution_count": 9,
     "metadata": {},
     "output_type": "execute_result"
    }
   ],
   "source": [
    "#all_scores\n",
    "np.mean(all_scores)"
   ]
  },
  {
   "cell_type": "code",
   "execution_count": 10,
   "id": "63319b8a",
   "metadata": {
    "execution": {
     "iopub.execute_input": "2021-07-23T03:10:13.895490Z",
     "iopub.status.busy": "2021-07-23T03:10:13.894820Z",
     "iopub.status.idle": "2021-07-23T03:21:06.002879Z",
     "shell.execute_reply": "2021-07-23T03:21:06.002100Z",
     "shell.execute_reply.started": "2021-07-23T02:49:30.675006Z"
    },
    "papermill": {
     "duration": 652.137474,
     "end_time": "2021-07-23T03:21:06.003070",
     "exception": false,
     "start_time": "2021-07-23T03:10:13.865596",
     "status": "completed"
    },
    "tags": []
   },
   "outputs": [
    {
     "name": "stdout",
     "output_type": "stream",
     "text": [
      "processing fold # 0\n",
      "processing fold # 1\n",
      "processing fold # 2\n",
      "processing fold # 3\n"
     ]
    }
   ],
   "source": [
    "# 500 epochs with log\n",
    "num_epochs = 500\n",
    "all_mae_histories = []\n",
    "for i in range(k):\n",
    "    print('processing fold #', i)\n",
    "    val_data = train_data[i * num_val_samples: (i + 1) * num_val_samples]\n",
    "    val_targets = train_targets[i * num_val_samples: (i + 1) * num_val_samples]\n",
    "    partial_train_data = np.concatenate(\n",
    "        [train_data[:i * num_val_samples],\n",
    "        train_data[(i + 1) * num_val_samples:]],\n",
    "        axis=0)\n",
    "    partial_train_targets = np.concatenate(\n",
    "        [train_targets[:i * num_val_samples],\n",
    "        train_targets[(i + 1) * num_val_samples:]],\n",
    "        axis=0)\n",
    "    model = build_model()\n",
    "    history = model.fit(partial_train_data, partial_train_targets,\n",
    "                        validation_data=(val_data, val_targets),\n",
    "                        epochs=num_epochs, batch_size=1, verbose=0)\n",
    "    mae_history = history.history['val_mae']\n",
    "    all_mae_histories.append(mae_history)"
   ]
  },
  {
   "cell_type": "code",
   "execution_count": 11,
   "id": "037cf702",
   "metadata": {
    "execution": {
     "iopub.execute_input": "2021-07-23T03:21:06.056636Z",
     "iopub.status.busy": "2021-07-23T03:21:06.055981Z",
     "iopub.status.idle": "2021-07-23T03:21:06.058966Z",
     "shell.execute_reply": "2021-07-23T03:21:06.058451Z",
     "shell.execute_reply.started": "2021-07-23T03:00:43.527114Z"
    },
    "papermill": {
     "duration": 0.03596,
     "end_time": "2021-07-23T03:21:06.059121",
     "exception": false,
     "start_time": "2021-07-23T03:21:06.023161",
     "status": "completed"
    },
    "tags": []
   },
   "outputs": [],
   "source": [
    "average_mae_history = [\n",
    "np.mean([x[i] for x in all_mae_histories]) for i in range(num_epochs)]"
   ]
  },
  {
   "cell_type": "code",
   "execution_count": 12,
   "id": "50fcc72a",
   "metadata": {
    "execution": {
     "iopub.execute_input": "2021-07-23T03:21:06.118236Z",
     "iopub.status.busy": "2021-07-23T03:21:06.117494Z",
     "iopub.status.idle": "2021-07-23T03:21:06.261484Z",
     "shell.execute_reply": "2021-07-23T03:21:06.260860Z",
     "shell.execute_reply.started": "2021-07-23T03:00:43.542672Z"
    },
    "papermill": {
     "duration": 0.18358,
     "end_time": "2021-07-23T03:21:06.261642",
     "exception": false,
     "start_time": "2021-07-23T03:21:06.078062",
     "status": "completed"
    },
    "tags": []
   },
   "outputs": [
    {
     "data": {
      "image/png": "[encoded data removed]",
      "text/plain": [
       "<Figure size 432x288 with 1 Axes>"
      ]
     },
     "metadata": {
      "needs_background": "light"
     },
     "output_type": "display_data"
    }
   ],
   "source": [
    "plt.plot(range(1, len(average_mae_history) + 1), average_mae_history)\n",
    "plt.xlabel('Epochs')\n",
    "plt.ylabel('Validation MAE')\n",
    "plt.show()"
   ]
  },
  {
   "cell_type": "code",
   "execution_count": 13,
   "id": "49c38a71",
   "metadata": {
    "execution": {
     "iopub.execute_input": "2021-07-23T03:21:06.334856Z",
     "iopub.status.busy": "2021-07-23T03:21:06.329169Z",
     "iopub.status.idle": "2021-07-23T03:21:06.459965Z",
     "shell.execute_reply": "2021-07-23T03:21:06.459342Z",
     "shell.execute_reply.started": "2021-07-23T03:03:30.454096Z"
    },
    "papermill": {
     "duration": 0.177711,
     "end_time": "2021-07-23T03:21:06.460102",
     "exception": false,
     "start_time": "2021-07-23T03:21:06.282391",
     "status": "completed"
    },
    "tags": []
   },
   "outputs": [
    {
     "data": {
      "image/png": "[encoded data removed]",
      "text/plain": [
       "<Figure size 432x288 with 1 Axes>"
      ]
     },
     "metadata": {
      "needs_background": "light"
     },
     "output_type": "display_data"
    }
   ],
   "source": [
    "def smooth_curve(points, factor=0.9):\n",
    "    smoothed_points = []\n",
    "    for point in points:\n",
    "        if smoothed_points:\n",
    "            previous = smoothed_points[-1]\n",
    "            smoothed_points.append(previous * factor + point * (1 - factor))\n",
    "        else:\n",
    "            smoothed_points.append(point)\n",
    "    return smoothed_points\n",
    "smooth_mae_history = smooth_curve(average_mae_history[10:])\n",
    "plt.plot(range(1, len(smooth_mae_history) + 1), smooth_mae_history)\n",
    "plt.xlabel('Epochs')\n",
    "plt.ylabel('Validation MAE')\n",
    "plt.show()"
   ]
  },
  {
   "cell_type": "markdown",
   "id": "6bbef378",
   "metadata": {
    "papermill": {
     "duration": 0.020809,
     "end_time": "2021-07-23T03:21:06.502371",
     "exception": false,
     "start_time": "2021-07-23T03:21:06.481562",
     "status": "completed"
    },
    "tags": []
   },
   "source": [
    "## Evaluate on test set"
   ]
  },
  {
   "cell_type": "code",
   "execution_count": 14,
   "id": "f8287902",
   "metadata": {
    "execution": {
     "iopub.execute_input": "2021-07-23T03:21:06.551044Z",
     "iopub.status.busy": "2021-07-23T03:21:06.550427Z",
     "iopub.status.idle": "2021-07-23T03:21:08.980586Z",
     "shell.execute_reply": "2021-07-23T03:21:08.980013Z",
     "shell.execute_reply.started": "2021-07-23T03:05:59.791024Z"
    },
    "papermill": {
     "duration": 2.457256,
     "end_time": "2021-07-23T03:21:08.980744",
     "exception": false,
     "start_time": "2021-07-23T03:21:06.523488",
     "status": "completed"
    },
    "tags": []
   },
   "outputs": [
    {
     "name": "stdout",
     "output_type": "stream",
     "text": [
      "4/4 [==============================] - 0s 2ms/step - loss: 18.7098 - mae: 2.9858\n"
     ]
    }
   ],
   "source": [
    "model = build_model()\n",
    "model.fit(train_data, train_targets,\n",
    "epochs=80, batch_size=16, verbose=0)\n",
    "test_mse_score, test_mae_score = model.evaluate(test_data, test_targets)"
   ]
  },
  {
   "cell_type": "code",
   "execution_count": 15,
   "id": "7395b9e0",
   "metadata": {
    "execution": {
     "iopub.execute_input": "2021-07-23T03:21:09.030578Z",
     "iopub.status.busy": "2021-07-23T03:21:09.029769Z",
     "iopub.status.idle": "2021-07-23T03:21:09.033858Z",
     "shell.execute_reply": "2021-07-23T03:21:09.033340Z",
     "shell.execute_reply.started": "2021-07-23T03:06:02.248142Z"
    },
    "papermill": {
     "duration": 0.030754,
     "end_time": "2021-07-23T03:21:09.034011",
     "exception": false,
     "start_time": "2021-07-23T03:21:09.003257",
     "status": "completed"
    },
    "tags": []
   },
   "outputs": [
    {
     "data": {
      "text/plain": [
       "2.9857990741729736"
      ]
     },
     "execution_count": 15,
     "metadata": {},
     "output_type": "execute_result"
    }
   ],
   "source": [
    "test_mae_score"
   ]
  }
 ],
 "metadata": {
  "kernelspec": {
   "display_name": "Python 3",
   "language": "python",
   "name": "python3"
  },
  "language_info": {
   "codemirror_mode": {
    "name": "ipython",
    "version": 3
   },
   "file_extension": ".py",
   "mimetype": "text/x-python",
   "name": "python",
   "nbconvert_exporter": "python",
   "pygments_lexer": "ipython3",
   "version": "3.8.8"
  },
  "papermill": {
   "default_parameters": {},
   "duration": 760.90714,
   "end_time": "2021-07-23T03:21:11.134706",
   "environment_variables": {},
   "exception": null,
   "input_path": "__notebook__.ipynb",
   "output_path": "__notebook__.ipynb",
   "parameters": {},
   "start_time": "2021-07-23T03:08:30.227566",
   "version": "2.3.3"
  }
 },
 "nbformat": 4,
 "nbformat_minor": 5
}
